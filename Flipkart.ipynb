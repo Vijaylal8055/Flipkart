{
 "cells": [
  {
   "cell_type": "code",
   "execution_count": 1,
   "id": "26f53dd3-656d-4d49-8d46-6f7885616531",
   "metadata": {},
   "outputs": [],
   "source": [
    "#pip install requests"
   ]
  },
  {
   "cell_type": "code",
   "execution_count": 2,
   "id": "96ea7977-3e9d-49a4-ba95-6d01f91e2818",
   "metadata": {},
   "outputs": [],
   "source": [
    "#pip install bs4"
   ]
  },
  {
   "cell_type": "code",
   "execution_count": 3,
   "id": "769aa926-6c3f-4d73-8183-919a0d299365",
   "metadata": {},
   "outputs": [],
   "source": [
    "import requests"
   ]
  },
  {
   "cell_type": "code",
   "execution_count": 4,
   "id": "950e561f-4603-4def-a664-b5c08ca6de67",
   "metadata": {},
   "outputs": [],
   "source": [
    "import bs4"
   ]
  },
  {
   "cell_type": "code",
   "execution_count": 5,
   "id": "92958e5c-2933-4b9c-99d5-8fbdc2129954",
   "metadata": {},
   "outputs": [],
   "source": [
    "url=\"https://www.flipkart.com/search?q=sweatshirt+for+men&as=on&as-show=on&otracker=AS_Query_OrganicAutoSuggest_3_2_na_na_na&otracker1=AS_Query_OrganicAutoSuggest_3_2_na_na_na&as-pos=3&as-type=RECENT&suggestionId=sweatshirt+for+men&requestId=5a478291-364a-4c61-8be1-27c76cd12a62&as-searchtext=sweatshirt%20for%20men\""
   ]
  },
  {
   "cell_type": "code",
   "execution_count": 6,
   "id": "97b1e657-a015-46e5-a7e9-e913fcf93c0c",
   "metadata": {},
   "outputs": [
    {
     "data": {
      "text/plain": [
       "<Response [200]>"
      ]
     },
     "execution_count": 6,
     "metadata": {},
     "output_type": "execute_result"
    }
   ],
   "source": [
    "data=requests.get(url)\n",
    "data"
   ]
  },
  {
   "cell_type": "code",
   "execution_count": 7,
   "id": "8f1ff358-1780-4da6-8295-ac99cea7c86c",
   "metadata": {},
   "outputs": [
    {
     "data": {
      "text/plain": [
       "str"
      ]
     },
     "execution_count": 7,
     "metadata": {},
     "output_type": "execute_result"
    }
   ],
   "source": [
    "data.text\n",
    "type(data.text)"
   ]
  },
  {
   "cell_type": "code",
   "execution_count": 8,
   "id": "46f9ea45-4df1-4e28-8246-0bcf0199de31",
   "metadata": {},
   "outputs": [],
   "source": [
    "from bs4 import BeautifulSoup"
   ]
  },
  {
   "cell_type": "code",
   "execution_count": 9,
   "id": "fa360bee-a180-439b-a01d-f76bbdd232b0",
   "metadata": {},
   "outputs": [],
   "source": [
    "soup=BeautifulSoup(data.text,\"html\")"
   ]
  },
  {
   "cell_type": "code",
   "execution_count": 10,
   "id": "96f62b26-834e-42d1-b921-d3cca475e961",
   "metadata": {},
   "outputs": [
    {
     "data": {
      "text/plain": [
       "'TRIPR'"
      ]
     },
     "execution_count": 10,
     "metadata": {},
     "output_type": "execute_result"
    }
   ],
   "source": [
    "soup.find('div',attrs={\"class\":\"syl9yP\"}).text"
   ]
  },
  {
   "cell_type": "code",
   "execution_count": 13,
   "id": "a14a80b1-9f75-4b5a-9ce2-c10f9a54829a",
   "metadata": {},
   "outputs": [
    {
     "data": {
      "text/plain": [
       "'Men Full Sleeve Solid Sweatshirt'"
      ]
     },
     "execution_count": 13,
     "metadata": {},
     "output_type": "execute_result"
    }
   ],
   "source": [
    "soup.find('a',attrs={\"class\":\"WKTcLC BwBZTg\"}).text"
   ]
  },
  {
   "cell_type": "code",
   "execution_count": 14,
   "id": "ec674343-6df5-48ec-bdf8-9b9f91dc6fd5",
   "metadata": {},
   "outputs": [
    {
     "data": {
      "text/plain": [
       "'₹449'"
      ]
     },
     "execution_count": 14,
     "metadata": {},
     "output_type": "execute_result"
    }
   ],
   "source": [
    "soup.find('div',attrs={\"class\":\"Nx9bqj\"}).text"
   ]
  },
  {
   "cell_type": "code",
   "execution_count": 18,
   "id": "1521c775-545d-48b9-8177-a8e1677112e7",
   "metadata": {},
   "outputs": [
    {
     "data": {
      "text/plain": [
       "'77% off'"
      ]
     },
     "execution_count": 18,
     "metadata": {},
     "output_type": "execute_result"
    }
   ],
   "source": [
    "soup.find('div',attrs={\"class\":\"UkUFwK\"}).text"
   ]
  },
  {
   "cell_type": "code",
   "execution_count": 23,
   "id": "35038f37-b974-49f2-aa3f-391bb914a9c6",
   "metadata": {},
   "outputs": [],
   "source": [
    "a=soup.find_all('div',attrs={\"class\":\"sy19yP\"})"
   ]
  },
  {
   "cell_type": "code",
   "execution_count": 24,
   "id": "49897e92-fc13-4cf3-ab7b-74817596b7ef",
   "metadata": {},
   "outputs": [
    {
     "name": "stdout",
     "output_type": "stream",
     "text": [
      "[]\n",
      "0\n"
     ]
    }
   ],
   "source": [
    "brand=[i.text for i in a]\n",
    "print(brand)\n",
    "print(len(brand))"
   ]
  },
  {
   "cell_type": "code",
   "execution_count": 21,
   "id": "501e692b-bbdd-4396-a14f-7759bf7722d3",
   "metadata": {},
   "outputs": [],
   "source": [
    "b=soup.find_all('a',attrs={\"class\":\"WKTcLC BwBZTg\"})"
   ]
  },
  {
   "cell_type": "code",
   "execution_count": 22,
   "id": "50f998d2-5485-493c-bb0b-2da0755c3986",
   "metadata": {},
   "outputs": [
    {
     "name": "stdout",
     "output_type": "stream",
     "text": [
      "['Men Full Sleeve Solid Sweatshirt', 'Men Full Sleeve Solid Sweatshirt', 'Men Full Sleeve Solid Sweatshirt', 'Men Full Sleeve Solid Sweatshirt', 'Men Full Sleeve Solid Sweatshirt', 'Men Full Sleeve Solid Hooded Sweatshirt', 'Men Full Sleeve Printed Sweatshirt', 'Men Full Sleeve Solid Sweatshirt', 'Men Full Sleeve Solid Sweatshirt', 'Men Full Sleeve Solid Sweatshirt', 'Men Full Sleeve Solid Sweatshirt', 'Men Full Sleeve Solid Sweatshirt', 'Men Full Sleeve Solid Sweatshirt', 'Men Full Sleeve Solid Sweatshirt', 'Men Full Sleeve Printed Sweatshirt', 'Men Full Sleeve Solid Sweatshirt', 'Men Full Sleeve Solid Sweatshirt', 'Men Full Sleeve Solid Sweatshirt', 'Men Full Sleeve Graphic Print Hooded Sweatshirt']\n",
      "19\n"
     ]
    }
   ],
   "source": [
    "quality=[i.text for i in b]\n",
    "print(quality)\n",
    "print(len(quality))"
   ]
  },
  {
   "cell_type": "code",
   "execution_count": 25,
   "id": "93e0ed21-2a64-452d-8e5c-37292aa55c16",
   "metadata": {},
   "outputs": [],
   "source": [
    "c=soup.find_all('div',attrs={\"class\":\"Nx9bqj\"})"
   ]
  },
  {
   "cell_type": "code",
   "execution_count": 26,
   "id": "77e2a97e-6a3c-4658-9099-820aad758430",
   "metadata": {},
   "outputs": [
    {
     "name": "stdout",
     "output_type": "stream",
     "text": [
      "['₹449', '₹499', '₹449', '₹799', '₹429', '₹449', '₹499', '₹399', '₹399', '₹935', '₹439', '₹499', '₹329', '₹349', '₹479', '₹548', '₹449', '₹399', '₹479', '₹429', '₹499', '₹439', '₹479', '₹689', '₹739', '₹519', '₹499', '₹419', '₹597', '₹449', '₹294', '₹419', '₹1,115', '₹389', '₹499', '₹699', '₹329', '₹449', '₹329', '₹799', '₹597', '₹499', '₹449', '₹294', '₹499']\n",
      "45\n"
     ]
    }
   ],
   "source": [
    "price=[i.text for i in c]\n",
    "print(price)\n",
    "print(len(price))"
   ]
  },
  {
   "cell_type": "code",
   "execution_count": 27,
   "id": "7837cf31-fde4-4eb3-abb6-711ed7b1e3bd",
   "metadata": {},
   "outputs": [],
   "source": [
    "d=soup.find_all('div',attrs={\"class\":\"UkUFwK\"})"
   ]
  },
  {
   "cell_type": "code",
   "execution_count": 28,
   "id": "ea416dcf-6682-4ded-a87b-1c7b14e4c686",
   "metadata": {},
   "outputs": [
    {
     "name": "stdout",
     "output_type": "stream",
     "text": [
      "['77% off', '75% off', '77% off', '46% off', '78% off', '77% off', '75% off', '84% off', '84% off', '44% off', '78% off', '75% off', '67% off', '86% off', '76% off', '68% off', '77% off', '76% off', '76% off', '73% off', '75% off', '78% off', '76% off', '65% off', '80% off', '77% off', '75% off', '79% off', '71% off', '77% off', '80% off', '79% off', '49% off', '80% off', '66% off', '46% off', '76% off', '77% off', '76% off', '60% off', '71% off', '75% off', '77% off', '80% off', '75% off']\n",
      "45\n"
     ]
    }
   ],
   "source": [
    "discount=[i.text for i in d]\n",
    "print(discount)\n",
    "print(len(discount))"
   ]
  },
  {
   "cell_type": "code",
   "execution_count": 29,
   "id": "9f5c0d69-f171-4dba-a7ac-5605a133c2c0",
   "metadata": {},
   "outputs": [],
   "source": [
    "import pandas as pd"
   ]
  },
  {
   "cell_type": "code",
   "execution_count": 44,
   "id": "3e704c76-fef9-44aa-9fa5-9531ec87b0ed",
   "metadata": {},
   "outputs": [
    {
     "data": {
      "text/html": [
       "<div>\n",
       "<style scoped>\n",
       "    .dataframe tbody tr th:only-of-type {\n",
       "        vertical-align: middle;\n",
       "    }\n",
       "\n",
       "    .dataframe tbody tr th {\n",
       "        vertical-align: top;\n",
       "    }\n",
       "\n",
       "    .dataframe thead th {\n",
       "        text-align: right;\n",
       "    }\n",
       "</style>\n",
       "<table border=\"1\" class=\"dataframe\">\n",
       "  <thead>\n",
       "    <tr style=\"text-align: right;\">\n",
       "      <th></th>\n",
       "      <th>price</th>\n",
       "      <th>discount</th>\n",
       "    </tr>\n",
       "  </thead>\n",
       "  <tbody>\n",
       "    <tr>\n",
       "      <th>0</th>\n",
       "      <td>₹449</td>\n",
       "      <td>77% off</td>\n",
       "    </tr>\n",
       "    <tr>\n",
       "      <th>1</th>\n",
       "      <td>₹499</td>\n",
       "      <td>75% off</td>\n",
       "    </tr>\n",
       "    <tr>\n",
       "      <th>2</th>\n",
       "      <td>₹449</td>\n",
       "      <td>77% off</td>\n",
       "    </tr>\n",
       "    <tr>\n",
       "      <th>3</th>\n",
       "      <td>₹799</td>\n",
       "      <td>46% off</td>\n",
       "    </tr>\n",
       "    <tr>\n",
       "      <th>4</th>\n",
       "      <td>₹429</td>\n",
       "      <td>78% off</td>\n",
       "    </tr>\n",
       "    <tr>\n",
       "      <th>5</th>\n",
       "      <td>₹449</td>\n",
       "      <td>77% off</td>\n",
       "    </tr>\n",
       "    <tr>\n",
       "      <th>6</th>\n",
       "      <td>₹499</td>\n",
       "      <td>75% off</td>\n",
       "    </tr>\n",
       "    <tr>\n",
       "      <th>7</th>\n",
       "      <td>₹399</td>\n",
       "      <td>84% off</td>\n",
       "    </tr>\n",
       "    <tr>\n",
       "      <th>8</th>\n",
       "      <td>₹399</td>\n",
       "      <td>84% off</td>\n",
       "    </tr>\n",
       "    <tr>\n",
       "      <th>9</th>\n",
       "      <td>₹935</td>\n",
       "      <td>44% off</td>\n",
       "    </tr>\n",
       "    <tr>\n",
       "      <th>10</th>\n",
       "      <td>₹439</td>\n",
       "      <td>78% off</td>\n",
       "    </tr>\n",
       "    <tr>\n",
       "      <th>11</th>\n",
       "      <td>₹499</td>\n",
       "      <td>75% off</td>\n",
       "    </tr>\n",
       "    <tr>\n",
       "      <th>12</th>\n",
       "      <td>₹329</td>\n",
       "      <td>67% off</td>\n",
       "    </tr>\n",
       "    <tr>\n",
       "      <th>13</th>\n",
       "      <td>₹349</td>\n",
       "      <td>86% off</td>\n",
       "    </tr>\n",
       "    <tr>\n",
       "      <th>14</th>\n",
       "      <td>₹479</td>\n",
       "      <td>76% off</td>\n",
       "    </tr>\n",
       "    <tr>\n",
       "      <th>15</th>\n",
       "      <td>₹548</td>\n",
       "      <td>68% off</td>\n",
       "    </tr>\n",
       "    <tr>\n",
       "      <th>16</th>\n",
       "      <td>₹449</td>\n",
       "      <td>77% off</td>\n",
       "    </tr>\n",
       "    <tr>\n",
       "      <th>17</th>\n",
       "      <td>₹399</td>\n",
       "      <td>76% off</td>\n",
       "    </tr>\n",
       "    <tr>\n",
       "      <th>18</th>\n",
       "      <td>₹479</td>\n",
       "      <td>76% off</td>\n",
       "    </tr>\n",
       "    <tr>\n",
       "      <th>19</th>\n",
       "      <td>₹429</td>\n",
       "      <td>73% off</td>\n",
       "    </tr>\n",
       "    <tr>\n",
       "      <th>20</th>\n",
       "      <td>₹499</td>\n",
       "      <td>75% off</td>\n",
       "    </tr>\n",
       "    <tr>\n",
       "      <th>21</th>\n",
       "      <td>₹439</td>\n",
       "      <td>78% off</td>\n",
       "    </tr>\n",
       "    <tr>\n",
       "      <th>22</th>\n",
       "      <td>₹479</td>\n",
       "      <td>76% off</td>\n",
       "    </tr>\n",
       "    <tr>\n",
       "      <th>23</th>\n",
       "      <td>₹689</td>\n",
       "      <td>65% off</td>\n",
       "    </tr>\n",
       "    <tr>\n",
       "      <th>24</th>\n",
       "      <td>₹739</td>\n",
       "      <td>80% off</td>\n",
       "    </tr>\n",
       "    <tr>\n",
       "      <th>25</th>\n",
       "      <td>₹519</td>\n",
       "      <td>77% off</td>\n",
       "    </tr>\n",
       "    <tr>\n",
       "      <th>26</th>\n",
       "      <td>₹499</td>\n",
       "      <td>75% off</td>\n",
       "    </tr>\n",
       "    <tr>\n",
       "      <th>27</th>\n",
       "      <td>₹419</td>\n",
       "      <td>79% off</td>\n",
       "    </tr>\n",
       "    <tr>\n",
       "      <th>28</th>\n",
       "      <td>₹597</td>\n",
       "      <td>71% off</td>\n",
       "    </tr>\n",
       "    <tr>\n",
       "      <th>29</th>\n",
       "      <td>₹449</td>\n",
       "      <td>77% off</td>\n",
       "    </tr>\n",
       "    <tr>\n",
       "      <th>30</th>\n",
       "      <td>₹294</td>\n",
       "      <td>80% off</td>\n",
       "    </tr>\n",
       "    <tr>\n",
       "      <th>31</th>\n",
       "      <td>₹419</td>\n",
       "      <td>79% off</td>\n",
       "    </tr>\n",
       "    <tr>\n",
       "      <th>32</th>\n",
       "      <td>₹1,115</td>\n",
       "      <td>49% off</td>\n",
       "    </tr>\n",
       "    <tr>\n",
       "      <th>33</th>\n",
       "      <td>₹389</td>\n",
       "      <td>80% off</td>\n",
       "    </tr>\n",
       "    <tr>\n",
       "      <th>34</th>\n",
       "      <td>₹499</td>\n",
       "      <td>66% off</td>\n",
       "    </tr>\n",
       "    <tr>\n",
       "      <th>35</th>\n",
       "      <td>₹699</td>\n",
       "      <td>46% off</td>\n",
       "    </tr>\n",
       "    <tr>\n",
       "      <th>36</th>\n",
       "      <td>₹329</td>\n",
       "      <td>76% off</td>\n",
       "    </tr>\n",
       "    <tr>\n",
       "      <th>37</th>\n",
       "      <td>₹449</td>\n",
       "      <td>77% off</td>\n",
       "    </tr>\n",
       "    <tr>\n",
       "      <th>38</th>\n",
       "      <td>₹329</td>\n",
       "      <td>76% off</td>\n",
       "    </tr>\n",
       "    <tr>\n",
       "      <th>39</th>\n",
       "      <td>₹799</td>\n",
       "      <td>60% off</td>\n",
       "    </tr>\n",
       "    <tr>\n",
       "      <th>40</th>\n",
       "      <td>₹597</td>\n",
       "      <td>71% off</td>\n",
       "    </tr>\n",
       "    <tr>\n",
       "      <th>41</th>\n",
       "      <td>₹499</td>\n",
       "      <td>75% off</td>\n",
       "    </tr>\n",
       "    <tr>\n",
       "      <th>42</th>\n",
       "      <td>₹449</td>\n",
       "      <td>77% off</td>\n",
       "    </tr>\n",
       "    <tr>\n",
       "      <th>43</th>\n",
       "      <td>₹294</td>\n",
       "      <td>80% off</td>\n",
       "    </tr>\n",
       "    <tr>\n",
       "      <th>44</th>\n",
       "      <td>₹499</td>\n",
       "      <td>75% off</td>\n",
       "    </tr>\n",
       "  </tbody>\n",
       "</table>\n",
       "</div>"
      ],
      "text/plain": [
       "     price discount\n",
       "0     ₹449  77% off\n",
       "1     ₹499  75% off\n",
       "2     ₹449  77% off\n",
       "3     ₹799  46% off\n",
       "4     ₹429  78% off\n",
       "5     ₹449  77% off\n",
       "6     ₹499  75% off\n",
       "7     ₹399  84% off\n",
       "8     ₹399  84% off\n",
       "9     ₹935  44% off\n",
       "10    ₹439  78% off\n",
       "11    ₹499  75% off\n",
       "12    ₹329  67% off\n",
       "13    ₹349  86% off\n",
       "14    ₹479  76% off\n",
       "15    ₹548  68% off\n",
       "16    ₹449  77% off\n",
       "17    ₹399  76% off\n",
       "18    ₹479  76% off\n",
       "19    ₹429  73% off\n",
       "20    ₹499  75% off\n",
       "21    ₹439  78% off\n",
       "22    ₹479  76% off\n",
       "23    ₹689  65% off\n",
       "24    ₹739  80% off\n",
       "25    ₹519  77% off\n",
       "26    ₹499  75% off\n",
       "27    ₹419  79% off\n",
       "28    ₹597  71% off\n",
       "29    ₹449  77% off\n",
       "30    ₹294  80% off\n",
       "31    ₹419  79% off\n",
       "32  ₹1,115  49% off\n",
       "33    ₹389  80% off\n",
       "34    ₹499  66% off\n",
       "35    ₹699  46% off\n",
       "36    ₹329  76% off\n",
       "37    ₹449  77% off\n",
       "38    ₹329  76% off\n",
       "39    ₹799  60% off\n",
       "40    ₹597  71% off\n",
       "41    ₹499  75% off\n",
       "42    ₹449  77% off\n",
       "43    ₹294  80% off\n",
       "44    ₹499  75% off"
      ]
     },
     "execution_count": 44,
     "metadata": {},
     "output_type": "execute_result"
    }
   ],
   "source": [
    "data=pd.DataFrame({\"price\":price,\"discount\":discount})\n",
    "data"
   ]
  },
  {
   "cell_type": "code",
   "execution_count": 45,
   "id": "08fa2212-4f5e-436f-86e6-2f6d8fc0b87e",
   "metadata": {},
   "outputs": [],
   "source": [
    "data.to_csv(\"Flipkart.csv\")"
   ]
  },
  {
   "cell_type": "code",
   "execution_count": 46,
   "id": "5904cc49-0b5b-4569-a11c-799ef81ec3a1",
   "metadata": {},
   "outputs": [
    {
     "name": "stdout",
     "output_type": "stream",
     "text": [
      "https://www.flipkart.com/search?q=sweatshirt+for+men&as=on&as-show=on&otracker=AS_Query_OrganicAutoSuggest_3_2_na_na_na&otracker1=AS_Query_OrganicAutoSuggest_3_2_na_na_na&as-pos=3&as-type=RECENT&suggestionId=sweatshirt+for+men&requestId=5a478291-364a-4c61-8be1-27c76cd12a62&as-searchtext=sweatshirt%20for%20men0\n",
      "https://www.flipkart.com/search?q=sweatshirt+for+men&as=on&as-show=on&otracker=AS_Query_OrganicAutoSuggest_3_2_na_na_na&otracker1=AS_Query_OrganicAutoSuggest_3_2_na_na_na&as-pos=3&as-type=RECENT&suggestionId=sweatshirt+for+men&requestId=5a478291-364a-4c61-8be1-27c76cd12a62&as-searchtext=sweatshirt%20for%20men1\n",
      "https://www.flipkart.com/search?q=sweatshirt+for+men&as=on&as-show=on&otracker=AS_Query_OrganicAutoSuggest_3_2_na_na_na&otracker1=AS_Query_OrganicAutoSuggest_3_2_na_na_na&as-pos=3&as-type=RECENT&suggestionId=sweatshirt+for+men&requestId=5a478291-364a-4c61-8be1-27c76cd12a62&as-searchtext=sweatshirt%20for%20men2\n",
      "https://www.flipkart.com/search?q=sweatshirt+for+men&as=on&as-show=on&otracker=AS_Query_OrganicAutoSuggest_3_2_na_na_na&otracker1=AS_Query_OrganicAutoSuggest_3_2_na_na_na&as-pos=3&as-type=RECENT&suggestionId=sweatshirt+for+men&requestId=5a478291-364a-4c61-8be1-27c76cd12a62&as-searchtext=sweatshirt%20for%20men3\n",
      "https://www.flipkart.com/search?q=sweatshirt+for+men&as=on&as-show=on&otracker=AS_Query_OrganicAutoSuggest_3_2_na_na_na&otracker1=AS_Query_OrganicAutoSuggest_3_2_na_na_na&as-pos=3&as-type=RECENT&suggestionId=sweatshirt+for+men&requestId=5a478291-364a-4c61-8be1-27c76cd12a62&as-searchtext=sweatshirt%20for%20men4\n",
      "https://www.flipkart.com/search?q=sweatshirt+for+men&as=on&as-show=on&otracker=AS_Query_OrganicAutoSuggest_3_2_na_na_na&otracker1=AS_Query_OrganicAutoSuggest_3_2_na_na_na&as-pos=3&as-type=RECENT&suggestionId=sweatshirt+for+men&requestId=5a478291-364a-4c61-8be1-27c76cd12a62&as-searchtext=sweatshirt%20for%20men5\n",
      "https://www.flipkart.com/search?q=sweatshirt+for+men&as=on&as-show=on&otracker=AS_Query_OrganicAutoSuggest_3_2_na_na_na&otracker1=AS_Query_OrganicAutoSuggest_3_2_na_na_na&as-pos=3&as-type=RECENT&suggestionId=sweatshirt+for+men&requestId=5a478291-364a-4c61-8be1-27c76cd12a62&as-searchtext=sweatshirt%20for%20men6\n",
      "https://www.flipkart.com/search?q=sweatshirt+for+men&as=on&as-show=on&otracker=AS_Query_OrganicAutoSuggest_3_2_na_na_na&otracker1=AS_Query_OrganicAutoSuggest_3_2_na_na_na&as-pos=3&as-type=RECENT&suggestionId=sweatshirt+for+men&requestId=5a478291-364a-4c61-8be1-27c76cd12a62&as-searchtext=sweatshirt%20for%20men7\n",
      "https://www.flipkart.com/search?q=sweatshirt+for+men&as=on&as-show=on&otracker=AS_Query_OrganicAutoSuggest_3_2_na_na_na&otracker1=AS_Query_OrganicAutoSuggest_3_2_na_na_na&as-pos=3&as-type=RECENT&suggestionId=sweatshirt+for+men&requestId=5a478291-364a-4c61-8be1-27c76cd12a62&as-searchtext=sweatshirt%20for%20men8\n",
      "https://www.flipkart.com/search?q=sweatshirt+for+men&as=on&as-show=on&otracker=AS_Query_OrganicAutoSuggest_3_2_na_na_na&otracker1=AS_Query_OrganicAutoSuggest_3_2_na_na_na&as-pos=3&as-type=RECENT&suggestionId=sweatshirt+for+men&requestId=5a478291-364a-4c61-8be1-27c76cd12a62&as-searchtext=sweatshirt%20for%20men9\n",
      "https://www.flipkart.com/search?q=sweatshirt+for+men&as=on&as-show=on&otracker=AS_Query_OrganicAutoSuggest_3_2_na_na_na&otracker1=AS_Query_OrganicAutoSuggest_3_2_na_na_na&as-pos=3&as-type=RECENT&suggestionId=sweatshirt+for+men&requestId=5a478291-364a-4c61-8be1-27c76cd12a62&as-searchtext=sweatshirt%20for%20men10\n",
      "https://www.flipkart.com/search?q=sweatshirt+for+men&as=on&as-show=on&otracker=AS_Query_OrganicAutoSuggest_3_2_na_na_na&otracker1=AS_Query_OrganicAutoSuggest_3_2_na_na_na&as-pos=3&as-type=RECENT&suggestionId=sweatshirt+for+men&requestId=5a478291-364a-4c61-8be1-27c76cd12a62&as-searchtext=sweatshirt%20for%20men11\n",
      "https://www.flipkart.com/search?q=sweatshirt+for+men&as=on&as-show=on&otracker=AS_Query_OrganicAutoSuggest_3_2_na_na_na&otracker1=AS_Query_OrganicAutoSuggest_3_2_na_na_na&as-pos=3&as-type=RECENT&suggestionId=sweatshirt+for+men&requestId=5a478291-364a-4c61-8be1-27c76cd12a62&as-searchtext=sweatshirt%20for%20men12\n",
      "https://www.flipkart.com/search?q=sweatshirt+for+men&as=on&as-show=on&otracker=AS_Query_OrganicAutoSuggest_3_2_na_na_na&otracker1=AS_Query_OrganicAutoSuggest_3_2_na_na_na&as-pos=3&as-type=RECENT&suggestionId=sweatshirt+for+men&requestId=5a478291-364a-4c61-8be1-27c76cd12a62&as-searchtext=sweatshirt%20for%20men13\n",
      "https://www.flipkart.com/search?q=sweatshirt+for+men&as=on&as-show=on&otracker=AS_Query_OrganicAutoSuggest_3_2_na_na_na&otracker1=AS_Query_OrganicAutoSuggest_3_2_na_na_na&as-pos=3&as-type=RECENT&suggestionId=sweatshirt+for+men&requestId=5a478291-364a-4c61-8be1-27c76cd12a62&as-searchtext=sweatshirt%20for%20men14\n"
     ]
    }
   ],
   "source": [
    "base_url=\"https://www.flipkart.com/search?q=sweatshirt+for+men&as=on&as-show=on&otracker=AS_Query_OrganicAutoSuggest_3_2_na_na_na&otracker1=AS_Query_OrganicAutoSuggest_3_2_na_na_na&as-pos=3&as-type=RECENT&suggestionId=sweatshirt+for+men&requestId=5a478291-364a-4c61-8be1-27c76cd12a62&as-searchtext=sweatshirt%20for%20men\"\n",
    "for i in range(15):\n",
    "    print(base_url+str(i))"
   ]
  },
  {
   "cell_type": "code",
   "execution_count": 47,
   "id": "3b874f0f-8111-4e24-a11b-25c369e27f68",
   "metadata": {},
   "outputs": [],
   "source": [
    "import matplotlib.pyplot as plt"
   ]
  },
  {
   "cell_type": "code",
   "execution_count": 48,
   "id": "13f6ee22-069e-4254-ae5d-9270dc116748",
   "metadata": {},
   "outputs": [
    {
     "data": {
      "image/png": "[encoded data removed]",
      "text/plain": [
       "<Figure size 640x480 with 1 Axes>"
      ]
     },
     "metadata": {},
     "output_type": "display_data"
    }
   ],
   "source": [
    "data[\"price\"].value_counts().plot(kind=\"hist\")\n",
    "plt.show()"
   ]
  },
  {
   "cell_type": "code",
   "execution_count": 40,
   "id": "43c2350f-9eb5-4cbb-bcf6-c8bf7b73a056",
   "metadata": {},
   "outputs": [
    {
     "data": {
      "image/png": "[encoded data removed]",
      "text/plain": [
       "<Figure size 640x480 with 1 Axes>"
      ]
     },
     "metadata": {},
     "output_type": "display_data"
    }
   ],
   "source": [
    "data[\"discount\"].value_counts().plot(kind=\"pie\")\n",
    "plt.show()"
   ]
  },
  {
   "cell_type": "code",
   "execution_count": null,
   "id": "8449d425-ab90-45cc-82b9-902cb4ed34ee",
   "metadata": {},
   "outputs": [],
   "source": []
  }
 ],
 "metadata": {
  "kernelspec": {
   "display_name": "Python 3 (ipykernel)",
   "language": "python",
   "name": "python3"
  },
  "language_info": {
   "codemirror_mode": {
    "name": "ipython",
    "version": 3
   },
   "file_extension": ".py",
   "mimetype": "text/x-python",
   "name": "python",
   "nbconvert_exporter": "python",
   "pygments_lexer": "ipython3",
   "version": "3.11.9"
  }
 },
 "nbformat": 4,
 "nbformat_minor": 5
}
